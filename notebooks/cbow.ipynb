{
 "cells": [
  {
   "cell_type": "code",
   "execution_count": 42,
   "metadata": {},
   "outputs": [],
   "source": [
    "import torch\n",
    "import torch.nn as nn\n",
    "# import pandas as pd\n",
    "import json\n",
    "from torch.utils.data import Dataset, DataLoader\n",
    "from tqdm import tqdm\n",
    "import numpy as np\n",
    "import random\n",
    "import re\n",
    "import torch.nn.functional as F\n",
    "from sklearn.model_selection import train_test_split\n",
    "import torch.optim as optim\n",
    "\n",
    "#from nltk.tokenize import word_tokenize\n",
    "from collections import Counter\n",
    "\n",
    "# from ...src.utils.wiki_tokens.wiki_cleaner import getMorphemeList\n",
    "# import ../src/utiils/wiki_token/wiki_cleaner"
   ]
  },
  {
   "cell_type": "code",
   "execution_count": 6,
   "metadata": {},
   "outputs": [],
   "source": [
    "with open(\"../tokens/wiki.json\", \"r\") as file:\n",
    "    tokenizer =json.load(file)"
   ]
  },
  {
   "cell_type": "code",
   "execution_count": 7,
   "metadata": {},
   "outputs": [],
   "source": [
    "with open(\"text\", \"r\") as file:\n",
    "    wiki = file.read()"
   ]
  },
  {
   "cell_type": "code",
   "execution_count": null,
   "metadata": {},
   "outputs": [
    {
     "ename": "",
     "evalue": "",
     "output_type": "error",
     "traceback": [
      "\u001b[1;31mnotebook controller is DISPOSED. \n",
      "\u001b[1;31mView Jupyter <a href='command:jupyter.viewOutput'>log</a> for further details."
     ]
    }
   ],
   "source": [
    "\n",
    "# def getMorphemeList(text):\n",
    "#   text = text.lower()\n",
    "#   text = re.sub(r\"[^a-zA-Z0-9\\s]\", \"\", text)\n",
    "#   morpheme_list = word_tokenize(text)\n",
    "  \n",
    "#   # Count occurrences of each word\n",
    "#   word_counts = Counter(morpheme_list)\n",
    "  \n",
    "#   # Filter out words that only appear once\n",
    "#   morpheme_list = [word for word in morpheme_list if word_counts[word] > 1]\n",
    "  \n",
    "#   return morpheme_list\n",
    "\n",
    "\n",
    "# words = getMorphemeList(wiki)"
   ]
  },
  {
   "cell_type": "code",
   "execution_count": 8,
   "metadata": {},
   "outputs": [
    {
     "name": "stdout",
     "output_type": "stream",
     "text": [
      "\n"
     ]
    }
   ],
   "source": [
    "words = wiki.split(sep=\" \")\n",
    "window = 2\n",
    "print (words[0])\n",
    "words.pop(0)\n",
    "\n",
    "def get_words(words,idx,window=2):\n",
    "    sent = words[max(0,idx-window):min(idx+window+1,len(words))]\n",
    "    if len(sent) > 1:\n",
    "        rand_idx = random.randint(0,len(sent)-1)\n",
    "        target = sent[rand_idx]\n",
    "        del sent[rand_idx]\n",
    "\n",
    "        return sent, target\n",
    "        "
   ]
  },
  {
   "cell_type": "code",
   "execution_count": null,
   "metadata": {},
   "outputs": [],
   "source": [
    "class embed_train_dataset(Dataset):\n",
    "    def __init__(self, words, tokenizer):\n",
    "        self.data = words\n",
    "        self.tokenizer = tokenizer\n",
    "    \n",
    "    def __len__(self):\n",
    "        return len(self.data)\n",
    "    \n",
    "    def __getitem__(self, idx):\n",
    "        loop = True\n",
    "        \n",
    "        while loop == True:\n",
    "            running = []   \n",
    "            sent = words[max(0,idx-window):min(idx+window+1,len(words))]\n",
    "            for word in sent:\n",
    "                running.append(int(word in tokenizer))\n",
    "            if np.mean(running) == 1:\n",
    "                loop = False\n",
    "            else:\n",
    "                idx += 1\n",
    "\n",
    "                    \n",
    "                    \n",
    "        if len(sent) > 1:\n",
    "            rand_idx = random.randint(0,len(sent)-1)\n",
    "            target = sent[rand_idx]\n",
    "            del sent[rand_idx]\n",
    "            tokenized = []\n",
    "            for item in sent:\n",
    "                if item in tokenizer:\n",
    "                    tokenized.append(tokenizer[item])\n",
    "            if target not in tokenizer:\n",
    "                exit\n",
    "            #print (sent, target)\n",
    "            tokenized = torch.tensor(tokenized)\n",
    "\n",
    "            \n",
    "            return tokenized, torch.tensor(tokenizer[target])\n",
    "        "
   ]
  },
  {
   "cell_type": "code",
   "execution_count": 69,
   "metadata": {},
   "outputs": [
    {
     "name": "stdout",
     "output_type": "stream",
     "text": [
      "[tensor([[    0, 32997, 17988,  1814]]), tensor([21916])]\n"
     ]
    }
   ],
   "source": [
    "dataset = embed_train_dataset(words,tokenizer)\n",
    "dataloader = DataLoader(dataset, batch_size=1,shuffle=True)\n",
    "\n",
    "for data in dataloader:\n",
    "    print (data)\n",
    "    break\n",
    "\n"
   ]
  },
  {
   "cell_type": "code",
   "execution_count": 58,
   "metadata": {},
   "outputs": [],
   "source": [
    "class CBOW(torch.nn.Module):\n",
    "    def __init__(self):\n",
    "        super(CBOW, self).__init__()\n",
    "        self.embeddings = torch.nn.Embedding(num_embeddings = len(tokenizer), embedding_dim = 200)\n",
    "        self.linear = torch.nn.Linear(in_features = 200, out_features = len(tokenizer))\n",
    "        \n",
    "    def forward(self, inputs):\n",
    "        embeds = self.embeddings(inputs)\n",
    "        embeds = embeds.mean(dim=1)\n",
    "        out = self.linear(embeds)\n",
    "        probs =  F.log_softmax(out, dim=1)\n",
    "        return probs"
   ]
  },
  {
   "cell_type": "code",
   "execution_count": 72,
   "metadata": {},
   "outputs": [],
   "source": [
    "def train_loop():\n",
    "    number_epochs = 5\n",
    "\n",
    "    #train_wiki, val_wiki = train_test_split(words)\n",
    "\n",
    "\n",
    "    device = torch.device(\"cuda\" if torch.cuda.is_available() else \"cpu\")\n",
    "\n",
    "\n",
    "    dataset = embed_train_dataset(words,tokenizer)\n",
    "    dataloader = DataLoader(dataset, batch_size=128,shuffle=True)\n",
    "    \n",
    "\n",
    "    model = CBOW().to(device)\n",
    "    optimizer = optim.Adam(model.parameters(), lr=0.0001)\n",
    "    for epoch in range(number_epochs):\n",
    "        model.train()\n",
    "        epoch_loss = 0.0\n",
    "        for X,Y in tqdm(dataloader):\n",
    "            X = X.to(device)\n",
    "            Y = Y.to(device)\n",
    "            optimizer.zero_grad()\n",
    "            pred = model(X)\n",
    "            loss = F.cross_entropy(pred,Y)\n",
    "            loss.backward()\n",
    "            optimizer.step()\n",
    "            epoch_loss += loss\n",
    "        print(\"Epoch: {epoch}/{number_epochs}, loss: {epoch_loss} \")\n",
    "\n"
   ]
  },
  {
   "cell_type": "code",
   "execution_count": null,
   "metadata": {},
   "outputs": [
    {
     "name": "stderr",
     "output_type": "stream",
     "text": [
      " 12%|█▏        | 12122/98261 [02:48<21:33, 66.61it/s]/home/ari/group_work/predict-hacker-news-popularity/.venv/lib/python3.12/site-packages/numpy/_core/fromnumeric.py:3860: RuntimeWarning: Mean of empty slice.\n",
      "  return _methods._mean(a, axis=axis, dtype=dtype,\n",
      "/home/ari/group_work/predict-hacker-news-popularity/.venv/lib/python3.12/site-packages/numpy/_core/_methods.py:145: RuntimeWarning: invalid value encountered in scalar divide\n",
      "  ret = ret.dtype.type(ret / rcount)\n",
      " 12%|█▏        | 12122/98261 [02:59<21:33, 66.61it/s]"
     ]
    }
   ],
   "source": [
    "train_loop()"
   ]
  }
 ],
 "metadata": {
  "kernelspec": {
   "display_name": ".venv",
   "language": "python",
   "name": "python3"
  },
  "language_info": {
   "codemirror_mode": {
    "name": "ipython",
    "version": 3
   },
   "file_extension": ".py",
   "mimetype": "text/x-python",
   "name": "python",
   "nbconvert_exporter": "python",
   "pygments_lexer": "ipython3",
   "version": "3.12.3"
  }
 },
 "nbformat": 4,
 "nbformat_minor": 2
}
