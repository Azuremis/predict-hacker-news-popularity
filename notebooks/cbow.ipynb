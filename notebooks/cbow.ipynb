{
 "cells": [
  {
   "cell_type": "code",
   "execution_count": 1,
   "metadata": {},
   "outputs": [],
   "source": [
    "import torch\n",
    "import torch.nn as nn\n",
    "import wandb\n",
    "import datetime\n",
    "from dotenv import load_dotenv \n",
    "# import pandas as pd\n",
    "import json\n",
    "from torch.utils.data import Dataset, DataLoader\n",
    "from tqdm import tqdm\n",
    "import numpy as np\n",
    "import random\n",
    "import re\n",
    "import torch.nn.functional as F\n",
    "from sklearn.model_selection import train_test_split\n",
    "import torch.optim as optim\n",
    "import os\n",
    "\n",
    "#from nltk.tokenize import word_tokenize\n",
    "from collections import Counter\n",
    "\n",
    "# from ...src.utils.wiki_tokens.wiki_cleaner import getMorphemeList\n",
    "# import ../src/utiils/wiki_token/wiki_cleaner\n",
    "load_dotenv()\n",
    "\n",
    "torch.manual_seed(42)\n",
    "random.seed(42)\n",
    "np.random.seed(42)\n"
   ]
  },
  {
   "cell_type": "code",
   "execution_count": 2,
   "metadata": {},
   "outputs": [],
   "source": [
    "with open(\"../tokens/tokens.json\", \"r\") as file:\n",
    "    tokenizer =json.load(file)"
   ]
  },
  {
   "cell_type": "code",
   "execution_count": 3,
   "metadata": {},
   "outputs": [],
   "source": [
    "with open(\"text\", \"r\") as file:\n",
    "    wiki = file.read()"
   ]
  },
  {
   "cell_type": "code",
   "execution_count": null,
   "metadata": {},
   "outputs": [],
   "source": [
    "words = wiki.split(sep=\" \")\n",
    "window = 2\n",
    "print (words[0])\n",
    "words.pop(0)\n",
    "\n",
    "tokenized_wiki = []\n",
    "\n",
    "for word in words:\n",
    "    if word in tokenizer:\n",
    "        tokenized_wiki.append(tokenizer[word])\n",
    "        "
   ]
  },
  {
   "cell_type": "code",
   "execution_count": null,
   "metadata": {},
   "outputs": [],
   "source": [
    "print (tokenized_wiki[0:100])"
   ]
  },
  {
   "cell_type": "code",
   "execution_count": 6,
   "metadata": {},
   "outputs": [],
   "source": [
    "class embed_train_dataset(Dataset):\n",
    "    def __init__(self, words):\n",
    "        self.data = words\n",
    "    \n",
    "    def __len__(self):\n",
    "        return len(self.data)-4\n",
    "    \n",
    "    def __getitem__(self, idx):\n",
    "        idx = idx+2       \n",
    "        sent = self.data[max(0,idx-window):min(idx+window+1,len(words))]    \n",
    "        if len(sent) > 1:\n",
    "            rand_idx = random.randint(0,len(sent)-1)\n",
    "            target = sent[rand_idx]\n",
    "            del sent[rand_idx]\n",
    "            #print (sent)\n",
    "            tokenized = torch.tensor(sent)\n",
    "\n",
    "            \n",
    "            return tokenized, torch.tensor(target)\n",
    "        "
   ]
  },
  {
   "cell_type": "code",
   "execution_count": null,
   "metadata": {},
   "outputs": [],
   "source": [
    "dataset = embed_train_dataset(tokenized_wiki)\n",
    "dataloader = DataLoader(dataset, batch_size=1024,shuffle=True)\n",
    "\n",
    "for data in dataloader:\n",
    "    print (data)\n",
    "    break\n",
    "\n"
   ]
  },
  {
   "cell_type": "code",
   "execution_count": 8,
   "metadata": {},
   "outputs": [],
   "source": [
    "class CBOW(torch.nn.Module):\n",
    "    def __init__(self):\n",
    "        super(CBOW, self).__init__()\n",
    "        self.embeddings = torch.nn.Embedding(num_embeddings = len(tokenizer), embedding_dim = 256)\n",
    "        self.linear = torch.nn.Linear(in_features = 256, out_features = len(tokenizer), bias=False)\n",
    "        \n",
    "    def forward(self, inputs):\n",
    "        embeds = self.embeddings(inputs)\n",
    "        embeds = embeds.mean(dim=1)\n",
    "        out = self.linear(embeds)\n",
    "        return out"
   ]
  },
  {
   "cell_type": "code",
   "execution_count": null,
   "metadata": {},
   "outputs": [],
   "source": [
    "ts = datetime.datetime.now().strftime('%Y_%m_%d__%H_%M_%S')\n",
    "wandb.login(key=os.environ[\"WANDB_API\"], relogin=True)\n",
    "wandb.init(project='mlx7-week1-cbow', name=f'{ts}')"
   ]
  },
  {
   "cell_type": "code",
   "execution_count": 10,
   "metadata": {},
   "outputs": [],
   "source": [
    "def train_loop():\n",
    "    number_epochs = 5\n",
    "\n",
    "    #train_wiki, val_wiki = train_test_split(words)\n",
    "    os.makedirs(\"checkpoints\", exist_ok=True)\n",
    "\n",
    "    device = torch.device(\"cuda\" if torch.cuda.is_available() else \"cpu\")\n",
    "\n",
    "    dataset = embed_train_dataset(tokenized_wiki)\n",
    "    dataloader = DataLoader(dataset, batch_size=128,shuffle=True)\n",
    "    \n",
    "    model = CBOW().to(device)\n",
    "    optimizer = optim.Adam(model.parameters(), lr=0.003)\n",
    "    best_loss = 100000000000000.0\n",
    "    for epoch in range(number_epochs):\n",
    "        model.train()\n",
    "        epoch_loss = 0.0\n",
    "        for X,Y in tqdm(dataloader):\n",
    "            X = X.to(device)\n",
    "            Y = Y.to(device)\n",
    "            optimizer.zero_grad()\n",
    "            pred = model(X)\n",
    "            loss = F.cross_entropy(pred,Y)\n",
    "            loss.backward()\n",
    "            optimizer.step()\n",
    "            wandb.log({'loss': loss.item()})\n",
    "            epoch_loss += loss\n",
    "            #print (loss.item())\n",
    "        epoch_loss = epoch_loss/len(dataloader)\n",
    "        print(f\"Epoch: {epoch}/{number_epochs}, loss: {epoch_loss} \")\n",
    "        if epoch_loss < best_loss:\n",
    "            best_loss = epoch_loss\n",
    "            global checkpoint_name\n",
    "            checkpoint_name = f'{ts}.{epoch + 1}.cbow.pth'\n",
    "            torch.save(model.state_dict(), f'./checkpoints/{checkpoint_name}')\n",
    "            artifact = wandb.Artifact('model-weights', type='model')\n",
    "            artifact.add_file(f'./checkpoints/{checkpoint_name}')\n",
    "            wandb.log_artifact(artifact)\n",
    "            print(f\"Model improved. Saved.\")\n",
    "\n",
    "    wandb.finish()"
   ]
  },
  {
   "cell_type": "code",
   "execution_count": null,
   "metadata": {},
   "outputs": [],
   "source": [
    "train_loop()"
   ]
  },
  {
   "cell_type": "code",
   "execution_count": null,
   "metadata": {},
   "outputs": [],
   "source": [
    "class Regressor(torch.nn.Module):\n",
    "  def __init__(self):\n",
    "    super().__init__()\n",
    "    self.seq = torch.nn.Sequential(\n",
    "      torch.nn.Linear(in_features=256, out_features=128),\n",
    "      torch.nn.ReLU(),\n",
    "      torch.nn.Dropout(p=0.2  ),\n",
    "      torch.nn.Linear(in_features=128, out_features=64),\n",
    "      torch.nn.ReLU(),\n",
    "      torch.nn.Dropout(p=0.2),\n",
    "      torch.nn.Linear(in_features=64, out_features=32),\n",
    "      torch.nn.ReLU(),\n",
    "      torch.nn.Dropout(p=0.2),\n",
    "      torch.nn.Linear(in_features=32, out_features=16),\n",
    "      torch.nn.ReLU(),\n",
    "      torch.nn.Linear(in_features=16, out_features=1),\n",
    "    )\n",
    "\n",
    "  def forward(self, inpt):\n",
    "    out = self.seq(inpt)\n",
    "    return out"
   ]
  },
  {
   "cell_type": "code",
   "execution_count": null,
   "metadata": {},
   "outputs": [],
   "source": [
    "cbow = CBOW(len(tokenizer), n_dim=256)\n",
    "cbow.load_state_dict(torch.load(f'./checkpoints/{checkpoint_name}'))\n",
    "cbow.eval()"
   ]
  },
  {
   "cell_type": "code",
   "execution_count": null,
   "metadata": {},
   "outputs": [],
   "source": [
    "model_regressor = Regressor()\n",
    "model_optimizer = optim.Adam(model_regressor.parameters(), lr=0.005)"
   ]
  },
  {
   "cell_type": "code",
   "execution_count": null,
   "metadata": {},
   "outputs": [],
   "source": [
    "for i in range(100):\n",
    "  trg = torch.tensor([[125.]])               # score\n",
    "  ipt = torch.tensor([[45, 27, 45367, 456]]) # hacker news title -> tokenized hacker news title\n",
    "  emb = cbow.emb(ipt).mean(dim=1)            # hacker news embeddingss -> avg pool = average hacker news embeddings \n",
    "  out = model_regressor(emb)                # average hacker news embeddings -> regressor -> predicted score\n",
    "  loss = torch.nn.functional.l1_loss(out, trg) \n",
    "  loss.backward()\n",
    "  model_optimizer.step()\n",
    "  model_optimizer.zero_grad()\n",
    "  print(loss.item())"
   ]
  },
  {
   "cell_type": "code",
   "execution_count": null,
   "metadata": {},
   "outputs": [],
   "source": []
  }
 ],
 "metadata": {
  "kernelspec": {
   "display_name": ".venv",
   "language": "python",
   "name": "python3"
  },
  "language_info": {
   "codemirror_mode": {
    "name": "ipython",
    "version": 3
   },
   "file_extension": ".py",
   "mimetype": "text/x-python",
   "name": "python",
   "nbconvert_exporter": "python",
   "pygments_lexer": "ipython3",
   "version": "3.12.3"
  }
 },
 "nbformat": 4,
 "nbformat_minor": 2
}
