{
 "cells": [
  {
   "cell_type": "code",
   "execution_count": 156,
   "metadata": {},
   "outputs": [],
   "source": [
    "import torch\n",
    "import torch.nn as nn\n",
    "# import pandas as pd\n",
    "import json\n",
    "from torch.utils.data import Dataset, DataLoader\n",
    "from tqdm import tqdm\n",
    "import numpy as np\n",
    "import random\n",
    "import re\n",
    "import torch.nn.functional as F\n",
    "from sklearn.model_selection import train_test_split\n",
    "import torch.optim as optim\n",
    "import os\n",
    "\n",
    "#from nltk.tokenize import word_tokenize\n",
    "from collections import Counter\n",
    "\n",
    "# from ...src.utils.wiki_tokens.wiki_cleaner import getMorphemeList\n",
    "# import ../src/utiils/wiki_token/wiki_cleaner\n",
    "\n",
    "torch.manual_seed(42)\n",
    "random.seed(42)\n",
    "np.random.seed(42)"
   ]
  },
  {
   "cell_type": "code",
   "execution_count": 155,
   "metadata": {},
   "outputs": [],
   "source": [
    "with open(\"../tokens/tokens.json\", \"r\") as file:\n",
    "    tokenizer =json.load(file)"
   ]
  },
  {
   "cell_type": "code",
   "execution_count": 157,
   "metadata": {},
   "outputs": [],
   "source": [
    "with open(\"text\", \"r\") as file:\n",
    "    wiki = file.read()"
   ]
  },
  {
   "cell_type": "code",
   "execution_count": null,
   "metadata": {},
   "outputs": [
    {
     "ename": "",
     "evalue": "",
     "output_type": "error",
     "traceback": [
      "\u001b[1;31mnotebook controller is DISPOSED. \n",
      "\u001b[1;31mView Jupyter <a href='command:jupyter.viewOutput'>log</a> for further details."
     ]
    }
   ],
   "source": [
    "\n",
    "# def getMorphemeList(text):\n",
    "#   text = text.lower()\n",
    "#   text = re.sub(r\"[^a-zA-Z0-9\\s]\", \"\", text)\n",
    "#   morpheme_list = word_tokenize(text)\n",
    "  \n",
    "#   # Count occurrences of each word\n",
    "#   word_counts = Counter(morpheme_list)\n",
    "  \n",
    "#   # Filter out words that only appear once\n",
    "#   morpheme_list = [word for word in morpheme_list if word_counts[word] > 1]\n",
    "  \n",
    "#   return morpheme_list\n",
    "\n",
    "\n",
    "# words = getMorphemeList(wiki)"
   ]
  },
  {
   "cell_type": "code",
   "execution_count": 158,
   "metadata": {},
   "outputs": [
    {
     "name": "stdout",
     "output_type": "stream",
     "text": [
      "\n"
     ]
    }
   ],
   "source": [
    "words = wiki.split(sep=\" \")\n",
    "window = 2\n",
    "print (words[0])\n",
    "words.pop(0)\n",
    "\n",
    "tokenized_wiki = []\n",
    "\n",
    "for word in words:\n",
    "    if word in tokenizer:\n",
    "        tokenized_wiki.append(tokenizer[word])\n",
    "        "
   ]
  },
  {
   "cell_type": "code",
   "execution_count": 159,
   "metadata": {},
   "outputs": [
    {
     "name": "stdout",
     "output_type": "stream",
     "text": [
      "[1247, 1959, 1, 32287, 21917, 150, 12201, 35002, 644, 10085, 36322, 5821, 32413, 21917, 32413, 27187, 1271, 32413, 27932, 7746, 21917, 32413, 27187, 36011, 32413, 32287, 17153, 30730, 35002, 15956, 1, 23224, 35832, 32827, 8643, 1554, 324, 32408, 35002, 35439, 32827, 8704, 32413, 22197, 21917, 29756, 17216, 1000, 3013, 31899, 34900, 1959, 1, 24521, 17881, 4462, 28522, 8320, 32413, 36306, 1247, 17153, 8616, 12918, 32413, 36225, 27639, 5482, 17712, 1247, 1959, 1, 24295, 23667, 17153, 32413, 3067, 32408, 1814, 34563, 1271, 29043, 2925, 1019, 32480, 1814, 21917, 35972, 32569, 1247, 1000, 32827, 26650, 29746, 32408, 531, 32413, 10412, 21917, 2330]\n"
     ]
    }
   ],
   "source": [
    "print (tokenized_wiki[0:100])"
   ]
  },
  {
   "cell_type": "code",
   "execution_count": 160,
   "metadata": {},
   "outputs": [],
   "source": [
    "class embed_train_dataset(Dataset):\n",
    "    def __init__(self, words):\n",
    "        self.data = words\n",
    "    \n",
    "    def __len__(self):\n",
    "        return len(self.data)-4\n",
    "    \n",
    "    def __getitem__(self, idx):\n",
    "        idx = idx+2       \n",
    "        sent = self.data[max(0,idx-window):min(idx+window+1,len(words))]    \n",
    "        if len(sent) > 1:\n",
    "            rand_idx = random.randint(0,len(sent)-1)\n",
    "            target = sent[rand_idx]\n",
    "            del sent[rand_idx]\n",
    "            #print (sent)\n",
    "            tokenized = torch.tensor(sent)\n",
    "\n",
    "            \n",
    "            return tokenized, torch.tensor(target)\n",
    "        "
   ]
  },
  {
   "cell_type": "code",
   "execution_count": 135,
   "metadata": {},
   "outputs": [
    {
     "name": "stdout",
     "output_type": "stream",
     "text": [
      "[17231, 12917, 22018, 17215]\n",
      "[tensor([[17231, 12917, 22018, 17215]]), tensor([32412])]\n"
     ]
    }
   ],
   "source": [
    "dataset = embed_train_dataset(tokenized_wiki)\n",
    "dataloader = DataLoader(dataset, batch_size=1,shuffle=True)\n",
    "\n",
    "for data in dataloader:\n",
    "    print (data)\n",
    "    break\n",
    "\n"
   ]
  },
  {
   "cell_type": "code",
   "execution_count": 167,
   "metadata": {},
   "outputs": [],
   "source": [
    "class CBOW(torch.nn.Module):\n",
    "    def __init__(self):\n",
    "        super(CBOW, self).__init__()\n",
    "        self.embeddings = torch.nn.Embedding(num_embeddings = len(tokenizer), embedding_dim = 200)\n",
    "        self.linear = torch.nn.Linear(in_features = 200, out_features = len(tokenizer))\n",
    "        \n",
    "    def forward(self, inputs):\n",
    "        embeds = self.embeddings(inputs)\n",
    "        embeds = embeds.mean(dim=1)\n",
    "        out = self.linear(embeds)\n",
    "        #probs =  F.log_softmax(out, dim=1)\n",
    "        return out"
   ]
  },
  {
   "cell_type": "code",
   "execution_count": 164,
   "metadata": {},
   "outputs": [],
   "source": [
    "def train_loop():\n",
    "    number_epochs = 5\n",
    "\n",
    "    #train_wiki, val_wiki = train_test_split(words)\n",
    "    os.makedirs(\"checkpoints\", exist_ok=True)\n",
    "\n",
    "    device = torch.device(\"cuda\" if torch.cuda.is_available() else \"cpu\")\n",
    "\n",
    "\n",
    "    dataset = embed_train_dataset(tokenized_wiki)\n",
    "    dataloader = DataLoader(dataset, batch_size=128,shuffle=True)\n",
    "    \n",
    "\n",
    "    model = CBOW().to(device)\n",
    "    optimizer = optim.Adam(model.parameters(), lr=0.001)\n",
    "    best_loss = 100000000000000.0\n",
    "    for epoch in range(number_epochs):\n",
    "        model.train()\n",
    "        epoch_loss = 0.0\n",
    "        for X,Y in tqdm(dataloader):\n",
    "            X = X.to(device)\n",
    "            Y = Y.to(device)\n",
    "            optimizer.zero_grad()\n",
    "            pred = model(X)\n",
    "            loss = F.cross_entropy(pred,Y)\n",
    "            loss.backward()\n",
    "            optimizer.step()\n",
    "            epoch_loss += loss\n",
    "        print(f\"Epoch: {epoch}/{number_epochs}, loss: {epoch_loss} \")\n",
    "        if epoch_loss < best_loss:\n",
    "            best_loss = epoch_loss\n",
    "            save_path = f\"checkpoints/storm_epoch_{epoch+1}.pt\"\n",
    "            torch.save(model.state_dict(), save_path)\n",
    "            print(f\"Model improved. Saved to: {save_path}\")\n",
    "\n",
    "\n",
    "\n"
   ]
  },
  {
   "cell_type": "code",
   "execution_count": 168,
   "metadata": {},
   "outputs": [
    {
     "name": "stderr",
     "output_type": "stream",
     "text": [
      "  1%|          | 610/80028 [00:07<15:16, 86.62it/s] \n"
     ]
    },
    {
     "ename": "KeyboardInterrupt",
     "evalue": "",
     "output_type": "error",
     "traceback": [
      "\u001b[31m---------------------------------------------------------------------------\u001b[39m",
      "\u001b[31mKeyboardInterrupt\u001b[39m                         Traceback (most recent call last)",
      "\u001b[36mCell\u001b[39m\u001b[36m \u001b[39m\u001b[32mIn[168]\u001b[39m\u001b[32m, line 1\u001b[39m\n\u001b[32m----> \u001b[39m\u001b[32m1\u001b[39m \u001b[43mtrain_loop\u001b[49m\u001b[43m(\u001b[49m\u001b[43m)\u001b[49m\n",
      "\u001b[36mCell\u001b[39m\u001b[36m \u001b[39m\u001b[32mIn[164]\u001b[39m\u001b[32m, line 25\u001b[39m, in \u001b[36mtrain_loop\u001b[39m\u001b[34m()\u001b[39m\n\u001b[32m     23\u001b[39m optimizer.zero_grad()\n\u001b[32m     24\u001b[39m pred = model(X)\n\u001b[32m---> \u001b[39m\u001b[32m25\u001b[39m loss = \u001b[43mF\u001b[49m\u001b[43m.\u001b[49m\u001b[43mcross_entropy\u001b[49m\u001b[43m(\u001b[49m\u001b[43mpred\u001b[49m\u001b[43m,\u001b[49m\u001b[43mY\u001b[49m\u001b[43m)\u001b[49m\n\u001b[32m     26\u001b[39m loss.backward()\n\u001b[32m     27\u001b[39m optimizer.step()\n",
      "\u001b[36mFile \u001b[39m\u001b[32m~/group_work/predict-hacker-news-popularity/.venv/lib/python3.12/site-packages/torch/nn/functional.py:3494\u001b[39m, in \u001b[36mcross_entropy\u001b[39m\u001b[34m(input, target, weight, size_average, ignore_index, reduce, reduction, label_smoothing)\u001b[39m\n\u001b[32m   3492\u001b[39m \u001b[38;5;28;01mif\u001b[39;00m size_average \u001b[38;5;129;01mis\u001b[39;00m \u001b[38;5;129;01mnot\u001b[39;00m \u001b[38;5;28;01mNone\u001b[39;00m \u001b[38;5;129;01mor\u001b[39;00m reduce \u001b[38;5;129;01mis\u001b[39;00m \u001b[38;5;129;01mnot\u001b[39;00m \u001b[38;5;28;01mNone\u001b[39;00m:\n\u001b[32m   3493\u001b[39m     reduction = _Reduction.legacy_get_string(size_average, reduce)\n\u001b[32m-> \u001b[39m\u001b[32m3494\u001b[39m \u001b[38;5;28;01mreturn\u001b[39;00m \u001b[43mtorch\u001b[49m\u001b[43m.\u001b[49m\u001b[43m_C\u001b[49m\u001b[43m.\u001b[49m\u001b[43m_nn\u001b[49m\u001b[43m.\u001b[49m\u001b[43mcross_entropy_loss\u001b[49m\u001b[43m(\u001b[49m\n\u001b[32m   3495\u001b[39m \u001b[43m    \u001b[49m\u001b[38;5;28;43minput\u001b[39;49m\u001b[43m,\u001b[49m\n\u001b[32m   3496\u001b[39m \u001b[43m    \u001b[49m\u001b[43mtarget\u001b[49m\u001b[43m,\u001b[49m\n\u001b[32m   3497\u001b[39m \u001b[43m    \u001b[49m\u001b[43mweight\u001b[49m\u001b[43m,\u001b[49m\n\u001b[32m   3498\u001b[39m \u001b[43m    \u001b[49m\u001b[43m_Reduction\u001b[49m\u001b[43m.\u001b[49m\u001b[43mget_enum\u001b[49m\u001b[43m(\u001b[49m\u001b[43mreduction\u001b[49m\u001b[43m)\u001b[49m\u001b[43m,\u001b[49m\n\u001b[32m   3499\u001b[39m \u001b[43m    \u001b[49m\u001b[43mignore_index\u001b[49m\u001b[43m,\u001b[49m\n\u001b[32m   3500\u001b[39m \u001b[43m    \u001b[49m\u001b[43mlabel_smoothing\u001b[49m\u001b[43m,\u001b[49m\n\u001b[32m   3501\u001b[39m \u001b[43m\u001b[49m\u001b[43m)\u001b[49m\n",
      "\u001b[31mKeyboardInterrupt\u001b[39m: "
     ]
    }
   ],
   "source": [
    "train_loop()"
   ]
  }
 ],
 "metadata": {
  "kernelspec": {
   "display_name": ".venv",
   "language": "python",
   "name": "python3"
  },
  "language_info": {
   "codemirror_mode": {
    "name": "ipython",
    "version": 3
   },
   "file_extension": ".py",
   "mimetype": "text/x-python",
   "name": "python",
   "nbconvert_exporter": "python",
   "pygments_lexer": "ipython3",
   "version": "3.12.3"
  }
 },
 "nbformat": 4,
 "nbformat_minor": 2
}
