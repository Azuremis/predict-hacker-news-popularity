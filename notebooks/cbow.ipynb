{
 "cells": [
  {
   "cell_type": "code",
   "execution_count": 113,
   "metadata": {},
   "outputs": [],
   "source": [
    "import torch\n",
    "import torch.nn as nn\n",
    "# import pandas as pd\n",
    "import json\n",
    "from torch.utils.data import Dataset, DataLoader\n",
    "from tqdm import tqdm\n",
    "import numpy as np\n",
    "import random\n",
    "import re\n",
    "import torch.nn.functional as F\n",
    "from sklearn.model_selection import train_test_split\n",
    "import torch.optim as optim\n",
    "\n",
    "#from nltk.tokenize import word_tokenize\n",
    "from collections import Counter\n",
    "\n",
    "# from ...src.utils.wiki_tokens.wiki_cleaner import getMorphemeList\n",
    "# import ../src/utiils/wiki_token/wiki_cleaner"
   ]
  },
  {
   "cell_type": "code",
   "execution_count": 114,
   "metadata": {},
   "outputs": [],
   "source": [
    "with open(\"../tokens/wiki.json\", \"r\") as file:\n",
    "    tokenizer =json.load(file)"
   ]
  },
  {
   "cell_type": "code",
   "execution_count": 115,
   "metadata": {},
   "outputs": [],
   "source": [
    "with open(\"text\", \"r\") as file:\n",
    "    wiki = file.read()"
   ]
  },
  {
   "cell_type": "code",
   "execution_count": null,
   "metadata": {},
   "outputs": [
    {
     "ename": "",
     "evalue": "",
     "output_type": "error",
     "traceback": [
      "\u001b[1;31mnotebook controller is DISPOSED. \n",
      "\u001b[1;31mView Jupyter <a href='command:jupyter.viewOutput'>log</a> for further details."
     ]
    }
   ],
   "source": [
    "\n",
    "# def getMorphemeList(text):\n",
    "#   text = text.lower()\n",
    "#   text = re.sub(r\"[^a-zA-Z0-9\\s]\", \"\", text)\n",
    "#   morpheme_list = word_tokenize(text)\n",
    "  \n",
    "#   # Count occurrences of each word\n",
    "#   word_counts = Counter(morpheme_list)\n",
    "  \n",
    "#   # Filter out words that only appear once\n",
    "#   morpheme_list = [word for word in morpheme_list if word_counts[word] > 1]\n",
    "  \n",
    "#   return morpheme_list\n",
    "\n",
    "\n",
    "# words = getMorphemeList(wiki)"
   ]
  },
  {
   "cell_type": "code",
   "execution_count": 116,
   "metadata": {},
   "outputs": [
    {
     "name": "stdout",
     "output_type": "stream",
     "text": [
      "\n"
     ]
    }
   ],
   "source": [
    "words = wiki.split(sep=\" \")\n",
    "window = 2\n",
    "print (words[0])\n",
    "words.pop(0)\n",
    "\n",
    "tokenized_wiki = []\n",
    "\n",
    "for word in words:\n",
    "    if word in tokenizer:\n",
    "        tokenized_wiki.append(tokenizer[word])\n",
    "        "
   ]
  },
  {
   "cell_type": "code",
   "execution_count": 121,
   "metadata": {},
   "outputs": [
    {
     "name": "stdout",
     "output_type": "stream",
     "text": [
      "[1246, 1958, 0, 32286, 21916, 149, 12200, 35001, 643, 10084, 36321, 5820, 32412, 21916, 32412, 27186, 1270, 32412, 27931, 7745, 21916, 32412, 27186, 36010, 32412, 32286, 17152, 30729, 35001, 15955, 0, 23223, 35831, 32826, 8642, 1553, 323, 32407, 35001, 35438, 32826, 8703, 32412, 22196, 21916, 29755, 17215, 999, 3012, 31898, 34899, 1958, 0, 24520, 17880, 4461, 28521, 8319, 32412, 36305, 1246, 17152, 8615, 12917, 32412, 36224, 27638, 5481, 17711, 1246, 1958, 0, 24294, 23666, 17152, 32412, 3066, 32407, 1813, 34562, 1270, 29042, 2924, 1018, 32479, 1813, 21916, 35971, 32568, 1246, 999, 32826, 26649, 29745, 32407, 530, 32412, 10411, 21916, 2329]\n"
     ]
    }
   ],
   "source": [
    "print (tokenized_wiki[0:100])"
   ]
  },
  {
   "cell_type": "code",
   "execution_count": 142,
   "metadata": {},
   "outputs": [],
   "source": [
    "class embed_train_dataset(Dataset):\n",
    "    def __init__(self, words):\n",
    "        self.data = words\n",
    "    \n",
    "    def __len__(self):\n",
    "        return len(self.data)\n",
    "    \n",
    "    def __getitem__(self, idx):       \n",
    "        sent = self.data[max(0,idx-window):min(idx+window+1,len(words))]    \n",
    "        if len(sent) > 1:\n",
    "            rand_idx = random.randint(0,len(sent)-1)\n",
    "            target = sent[rand_idx]\n",
    "            del sent[rand_idx]\n",
    "            #print (sent)\n",
    "            tokenized = torch.tensor(sent)\n",
    "\n",
    "            \n",
    "            return tokenized, torch.tensor(target)\n",
    "        "
   ]
  },
  {
   "cell_type": "code",
   "execution_count": 135,
   "metadata": {},
   "outputs": [
    {
     "name": "stdout",
     "output_type": "stream",
     "text": [
      "[17231, 12917, 22018, 17215]\n",
      "[tensor([[17231, 12917, 22018, 17215]]), tensor([32412])]\n"
     ]
    }
   ],
   "source": [
    "dataset = embed_train_dataset(tokenized_wiki)\n",
    "dataloader = DataLoader(dataset, batch_size=1,shuffle=True)\n",
    "\n",
    "for data in dataloader:\n",
    "    print (data)\n",
    "    break\n",
    "\n"
   ]
  },
  {
   "cell_type": "code",
   "execution_count": 136,
   "metadata": {},
   "outputs": [],
   "source": [
    "class CBOW(torch.nn.Module):\n",
    "    def __init__(self):\n",
    "        super(CBOW, self).__init__()\n",
    "        self.embeddings = torch.nn.Embedding(num_embeddings = len(tokenizer), embedding_dim = 200)\n",
    "        self.linear = torch.nn.Linear(in_features = 200, out_features = len(tokenizer))\n",
    "        \n",
    "    def forward(self, inputs):\n",
    "        embeds = self.embeddings(inputs)\n",
    "        embeds = embeds.mean(dim=1)\n",
    "        out = self.linear(embeds)\n",
    "        probs =  F.log_softmax(out, dim=1)\n",
    "        return probs"
   ]
  },
  {
   "cell_type": "code",
   "execution_count": 140,
   "metadata": {},
   "outputs": [],
   "source": [
    "def train_loop():\n",
    "    number_epochs = 5\n",
    "\n",
    "    #train_wiki, val_wiki = train_test_split(words)\n",
    "\n",
    "\n",
    "    device = torch.device(\"cuda\" if torch.cuda.is_available() else \"cpu\")\n",
    "\n",
    "\n",
    "    dataset = embed_train_dataset(tokenized_wiki)\n",
    "    dataloader = DataLoader(dataset, batch_size=128,shuffle=True)\n",
    "    \n",
    "\n",
    "    model = CBOW().to(device)\n",
    "    optimizer = optim.Adam(model.parameters(), lr=0.0001)\n",
    "    for epoch in range(number_epochs):\n",
    "        model.train()\n",
    "        epoch_loss = 0.0\n",
    "        for X,Y in tqdm(dataloader):\n",
    "            X = X.to(device)\n",
    "            Y = Y.to(device)\n",
    "            optimizer.zero_grad()\n",
    "            pred = model(X)\n",
    "            loss = F.cross_entropy(pred,Y)\n",
    "            loss.backward()\n",
    "            optimizer.step()\n",
    "            epoch_loss += loss\n",
    "        print(\"Epoch: {epoch}/{number_epochs}, loss: {epoch_loss} \")\n",
    "\n"
   ]
  },
  {
   "cell_type": "code",
   "execution_count": 143,
   "metadata": {},
   "outputs": [
    {
     "name": "stderr",
     "output_type": "stream",
     "text": [
      "  7%|▋         | 5288/80027 [00:56<13:18, 93.62it/s] \n"
     ]
    },
    {
     "ename": "KeyboardInterrupt",
     "evalue": "",
     "output_type": "error",
     "traceback": [
      "\u001b[31m---------------------------------------------------------------------------\u001b[39m",
      "\u001b[31mKeyboardInterrupt\u001b[39m                         Traceback (most recent call last)",
      "\u001b[36mCell\u001b[39m\u001b[36m \u001b[39m\u001b[32mIn[143]\u001b[39m\u001b[32m, line 1\u001b[39m\n\u001b[32m----> \u001b[39m\u001b[32m1\u001b[39m \u001b[43mtrain_loop\u001b[49m\u001b[43m(\u001b[49m\u001b[43m)\u001b[49m\n",
      "\u001b[36mCell\u001b[39m\u001b[36m \u001b[39m\u001b[32mIn[140]\u001b[39m\u001b[32m, line 27\u001b[39m, in \u001b[36mtrain_loop\u001b[39m\u001b[34m()\u001b[39m\n\u001b[32m     25\u001b[39m     loss.backward()\n\u001b[32m     26\u001b[39m     optimizer.step()\n\u001b[32m---> \u001b[39m\u001b[32m27\u001b[39m     epoch_loss += loss\n\u001b[32m     28\u001b[39m \u001b[38;5;28mprint\u001b[39m(\u001b[33m\"\u001b[39m\u001b[33mEpoch: \u001b[39m\u001b[38;5;132;01m{epoch}\u001b[39;00m\u001b[33m/\u001b[39m\u001b[38;5;132;01m{number_epochs}\u001b[39;00m\u001b[33m, loss: \u001b[39m\u001b[38;5;132;01m{epoch_loss}\u001b[39;00m\u001b[33m \u001b[39m\u001b[33m\"\u001b[39m)\n",
      "\u001b[31mKeyboardInterrupt\u001b[39m: "
     ]
    }
   ],
   "source": [
    "train_loop()"
   ]
  }
 ],
 "metadata": {
  "kernelspec": {
   "display_name": ".venv",
   "language": "python",
   "name": "python3"
  },
  "language_info": {
   "codemirror_mode": {
    "name": "ipython",
    "version": 3
   },
   "file_extension": ".py",
   "mimetype": "text/x-python",
   "name": "python",
   "nbconvert_exporter": "python",
   "pygments_lexer": "ipython3",
   "version": "3.12.3"
  }
 },
 "nbformat": 4,
 "nbformat_minor": 2
}
